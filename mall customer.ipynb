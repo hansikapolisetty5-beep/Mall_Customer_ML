{
 "cells": [
  {
   "cell_type": "code",
   "execution_count": 1,
   "id": "a7f4859c-e657-4b43-b1b5-7617986ae3f1",
   "metadata": {},
   "outputs": [
    {
     "name": "stderr",
     "output_type": "stream",
     "text": [
      "Matplotlib is building the font cache; this may take a moment.\n"
     ]
    }
   ],
   "source": [
    "import pandas as pd\n",
    "import matplotlib.pyplot as plt\n",
    "import seaborn as sns\n",
    "from sklearn.preprocessing import StandardScaler\n",
    "from sklearn.cluster import DBSCAN\n"
   ]
  },
  {
   "cell_type": "code",
   "execution_count": null,
   "id": "7c700285-1119-43a0-94b7-51b9d4454c42",
   "metadata": {},
   "outputs": [],
   "source": [
    "data = pd.read_csv(\"Mall_Customers.csv\")"
   ]
  },
  {
   "cell_type": "code",
   "execution_count": null,
   "id": "9e5dddca-e319-436e-91f2-872b344796b4",
   "metadata": {},
   "outputs": [],
   "source": [
    "X = data[['Annual Income (k$)', 'Spending Score (1-100)']].values"
   ]
  },
  {
   "cell_type": "code",
   "execution_count": null,
   "id": "cfd488eb-ade7-43d7-bae4-0745f95a4a6c",
   "metadata": {},
   "outputs": [],
   "source": [
    "scaler = StandardScaler()\n",
    "X_scaled = scaler.fit_transform(X)"
   ]
  },
  {
   "cell_type": "code",
   "execution_count": null,
   "id": "970bd9bc-9665-414b-8228-2e228cc8ff67",
   "metadata": {},
   "outputs": [],
   "source": [
    "dbscan = DBSCAN(eps=0.6, min_samples=5)\n",
    "clusters = dbscan.fit_predict(X_scaled)\n",
    "data['Cluster'] = clusters"
   ]
  },
  {
   "cell_type": "code",
   "execution_count": null,
   "id": "2b427060-2c54-4fab-8e6a-e21e21f0eabe",
   "metadata": {},
   "outputs": [],
   "source": [
    "plt.figure(figsize=(7, 5))\n",
    "sns.scatterplot(data=data, x=\"Annual Income (k$)\", y=\"Spending Score (1-100)\", hue=\"Cluster\", palette=\"tab10\")\n",
    "plt.title(\"Scatter Plot of Clusters\")\n",
    "plt.show()"
   ]
  },
  {
   "cell_type": "code",
   "execution_count": null,
   "id": "c334c1e0-6506-4391-996f-9208e28ae9fd",
   "metadata": {},
   "outputs": [],
   "source": [
    "sns.pairplot(data[['Age', 'Annual Income (k$)', 'Spending Score (1-100)', 'Cluster']], hue=\"Cluster\", palette=\"tab10\")\n",
    "plt.show()"
   ]
  },
  {
   "cell_type": "code",
   "execution_count": null,
   "id": "ee6b1ee1-2a33-4800-b176-4ea5ec048c86",
   "metadata": {},
   "outputs": [],
   "source": [
    "plt.figure(figsize=(7, 5))\n",
    "sns.boxplot(data=data, x=\"Cluster\", y=\"Spending Score (1-100)\", palette=\"Set2\")\n",
    "plt.title(\"Boxplot of Spending Score by Cluster\")\n",
    "plt.show()"
   ]
  },
  {
   "cell_type": "code",
   "execution_count": null,
   "id": "a5d4c7aa-8e81-4593-8d68-e57efe31e421",
   "metadata": {},
   "outputs": [],
   "source": [
    "plt.figure(figsize=(7, 5))\n",
    "sns.boxplot(data=data, x=\"Cluster\", y=\"Annual Income (k$)\", palette=\"Set3\")\n",
    "plt.title(\"Boxplot of Annual Income by Cluster\")\n",
    "plt.show()"
   ]
  },
  {
   "cell_type": "code",
   "execution_count": null,
   "id": "3aef2538-571e-4e0e-b60f-2fb94687fbca",
   "metadata": {},
   "outputs": [],
   "source": [
    "plt.figure(figsize=(7, 5))\n",
    "sns.countplot(data=data, x=\"Cluster\", palette=\"Paired\")\n",
    "plt.title(\"Cluster Counts\")\n",
    "plt.show()"
   ]
  },
  {
   "cell_type": "code",
   "execution_count": null,
   "id": "129430cf-9ada-4909-ab70-54076320ff83",
   "metadata": {},
   "outputs": [],
   "source": [
    "plt.figure(figsize=(7, 5))\n",
    "sns.histplot(data=data, x=\"Age\", hue=\"Cluster\", multiple=\"stack\", palette=\"husl\")\n",
    "plt.title(\"Age Distribution by Cluster\")\n",
    "plt.show()"
   ]
  },
  {
   "cell_type": "code",
   "execution_count": null,
   "id": "db3fc778-7dee-48ef-9902-8171d3e4c3f9",
   "metadata": {},
   "outputs": [],
   "source": [
    "plt.figure(figsize=(7, 5))\n",
    "sns.kdeplot(data=data, x=\"Annual Income (k$)\", hue=\"Cluster\", fill=True)\n",
    "plt.title(\"KDE of Annual Income by Cluster\")\n",
    "plt.show()"
   ]
  },
  {
   "cell_type": "code",
   "execution_count": null,
   "id": "cf773cfe-5af1-46d3-9a17-343786962d7b",
   "metadata": {},
   "outputs": [],
   "source": [
    "plt.figure(figsize=(7, 5))\n",
    "sns.kdeplot(data=data, x=\"Spending Score (1-100)\", hue=\"Cluster\", fill=True)\n",
    "plt.title(\"KDE of Spending Score by Cluster\")\n",
    "plt.show()"
   ]
  },
  {
   "cell_type": "code",
   "execution_count": null,
   "id": "a8f98eed-36b8-4ee0-8d19-c9c2166fe216",
   "metadata": {},
   "outputs": [],
   "source": [
    "plt.figure(figsize=(7, 5))\n",
    "sns.violinplot(data=data, x=\"Cluster\", y=\"Age\", palette=\"Accent\")\n",
    "plt.title(\"Violin Plot of Age by Cluster\")\n",
    "plt.show()"
   ]
  },
  {
   "cell_type": "code",
   "execution_count": null,
   "id": "d96dba6d-bd69-4d63-ab66-0bb0a8127910",
   "metadata": {},
   "outputs": [],
   "source": [
    "plt.figure(figsize=(7, 5))\n",
    "sns.swarmplot(data=data, x=\"Cluster\", y=\"Annual Income (k$)\", hue=\"Cluster\", palette=\"tab10\", dodge=True)\n",
    "plt.title(\"Swarm Plot of Annual Income by Cluster\")\n",
    "plt.show()"
   ]
  },
  {
   "cell_type": "code",
   "execution_count": null,
   "id": "abecdc77-eb7b-466d-97d4-e4411e2bdbbe",
   "metadata": {},
   "outputs": [],
   "source": [
    "plt.figure(figsize=(7, 5))\n",
    "sns.stripplot(data=data, x=\"Cluster\", y=\"Spending Score (1-100)\", palette=\"Set1\")\n",
    "plt.title(\"Strip Plot of Spending Score by Cluster\")\n",
    "plt.show()"
   ]
  },
  {
   "cell_type": "code",
   "execution_count": null,
   "id": "9ae9fe73-fb03-40c2-9b58-61f8e71b7d54",
   "metadata": {},
   "outputs": [],
   "source": [
    "plt.figure(figsize=(7, 5))\n",
    "sns.heatmap(data[['Age', 'Annual Income (k$)', 'Spending Score (1-100)']].corr(), annot=True, cmap=\"coolwarm\")\n",
    "plt.title(\"Correlation Heatmap\")\n",
    "plt.show()"
   ]
  },
  {
   "cell_type": "code",
   "execution_count": null,
   "id": "52cebc4b-079b-4e19-a6e1-4fbc77c07d5a",
   "metadata": {},
   "outputs": [],
   "source": [
    "plt.figure(figsize=(7, 5))\n",
    "sns.scatterplot(data=data, x=\"Age\", y=\"Annual Income (k$)\", hue=\"Cluster\", palette=\"tab20\")\n",
    "plt.title(\"Clusters on Age vs Income\")\n",
    "plt.show()"
   ]
  },
  {
   "cell_type": "code",
   "execution_count": null,
   "id": "0038e94b-2a4c-4eec-b0ef-d7ac606591dd",
   "metadata": {},
   "outputs": [],
   "source": [
    "plt.figure(figsize=(7, 5))\n",
    "sns.scatterplot(data=data, x=\"Age\", y=\"Spending Score (1-100)\", hue=\"Cluster\", palette=\"tab20b\")\n",
    "plt.title(\"Clusters on Age vs Spending Score\")\n",
    "plt.show()"
   ]
  },
  {
   "cell_type": "code",
   "execution_count": null,
   "id": "710180c1-1b75-4a56-be16-adb60e41aa04",
   "metadata": {},
   "outputs": [],
   "source": [
    "plt.figure(figsize=(7, 7))\n",
    "data['Cluster'].value_counts().plot.pie(autopct='%1.1f%%', colors=sns.color_palette(\"Set2\"))\n",
    "plt.title(\"Cluster Size Distribution\")\n",
    "plt.ylabel(\"\")\n",
    "plt.show()"
   ]
  }
 ],
 "metadata": {
  "kernelspec": {
   "display_name": "Python [conda env:base] *",
   "language": "python",
   "name": "conda-base-py"
  },
  "language_info": {
   "codemirror_mode": {
    "name": "ipython",
    "version": 3
   },
   "file_extension": ".py",
   "mimetype": "text/x-python",
   "name": "python",
   "nbconvert_exporter": "python",
   "pygments_lexer": "ipython3",
   "version": "3.13.5"
  }
 },
 "nbformat": 4,
 "nbformat_minor": 5
}
